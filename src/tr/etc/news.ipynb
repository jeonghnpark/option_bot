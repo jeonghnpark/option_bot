{
 "cells": [
  {
   "cell_type": "code",
   "execution_count": 1,
   "id": "93da8c49",
   "metadata": {},
   "outputs": [],
   "source": [
    "from urllib.request import Request, urlopen\n",
    "from urllib.parse import urlencode, quote_plus\n",
    "import os\n",
    "from dotenv import load_dotenv\n",
    "load_dotenv()\n",
    "APP_KEY=os.environ.get(\"EBEST-OPEN-API-APP-KEY-TEST\")\n",
    "APP_SECRET=os.environ.get(\"EBEST-OPEN-API-SECRET-KEY-TEST\")\n",
    "import json\n",
    "import requests\n",
    "\n",
    "import auth\n",
    "\n",
    "import pandas as pd\n",
    "import websockets\n",
    "import asyncio\n"
   ]
  },
  {
   "cell_type": "code",
   "execution_count": 2,
   "id": "f92a5dc1",
   "metadata": {},
   "outputs": [],
   "source": [
    "ACCESS_TOKEN=auth.get_token()\n",
    "# BASE_URL = \"wss://openapi.ebestsec.co.kr:29443/websocket\"\n",
    "# PATH = \"etc\"\n",
    "# URL = f\"{BASE_URL}/{PATH}\"\n",
    "header = {  \n",
    "  \"token\": ACCESS_TOKEN,\n",
    "  \"tr_type\": \"3\"\n",
    "}\n",
    "body = {\n",
    "        \"tr_cd\": \"NWS\",\n",
    "        \"tr_key\": \"NWS001\"  \n",
    "}\n",
    "# 두 딕셔너리를 하나로 결합\n",
    "js = json.dumps({\"header\": header, \"body\": body})"
   ]
  },
  {
   "cell_type": "code",
   "execution_count": 3,
   "id": "ad53db93",
   "metadata": {},
   "outputs": [],
   "source": [
    "# json_string = json.dumps(combined_dict)"
   ]
  },
  {
   "cell_type": "code",
   "execution_count": 4,
   "id": "1b4abfbb",
   "metadata": {},
   "outputs": [],
   "source": [
    "stop_signal=False\n",
    "async def connect():\n",
    "# 웹 소켓에 접속을 합니다.\n",
    "    async with websockets.connect(\"wss://openapi.ebestsec.co.kr:29443/websocket\") as websocket:\n",
    "        # 웹 소켓 서버로 데이터를 전송합니다.\n",
    "        while not stop_signal:\n",
    "            await websocket.send(js)\n",
    "            # 웹 소켓 서버로 부터 메시지가 오면 콘솔에 출력합니다.\n",
    "            data = await websocket.recv()\n",
    "            dict_data=json.loads(data)\n",
    "            body=dict_data['body']\n",
    "            if body is not None:\n",
    "                print(body)"
   ]
  },
  {
   "cell_type": "code",
   "execution_count": 5,
   "id": "8006c682",
   "metadata": {},
   "outputs": [
    {
     "name": "stdout",
     "output_type": "stream",
     "text": [
      "{'date': '20240214', 'code': '', 'realkey': '202402141640222600000746', 'bodysize': '4329', 'time': '164022', 'id': '26', 'title': \"[포토] 최재림, '부드러운 미소~'\"}\n",
      "{'date': '20240214', 'code': '', 'realkey': '202402141640233121400370', 'bodysize': '2580', 'time': '164023', 'id': '31', 'title': '[포토] 코스피 지수, 1% 넘게 하락하며 2620선 하락 마감'}\n",
      "{'date': '20240214', 'code': '000000085810', 'realkey': '202402141640262142609816', 'bodysize': '3600', 'time': '164026', 'id': '21', 'title': '알티캐스트, 23년 연결 영업손실 60.92억원'}\n",
      "{'date': '20240214', 'code': '', 'realkey': '202402141640311403100768', 'bodysize': '1440', 'time': '164031', 'id': '14', 'title': \"[포토] '라스트 파이브 이어스' 제이미 역 최재림\"}\n",
      "{'date': '20240214', 'code': '', 'realkey': '202402141640502600000748', 'bodysize': '4329', 'time': '164050', 'id': '26', 'title': \"[포토] 최재림, '좌중 압도하는 멋진 모습'\"}\n",
      "{'date': '20240214', 'code': '000000171010', 'realkey': '202402141640592145935666', 'bodysize': '3600', 'time': '164059', 'id': '21', 'title': '램테크놀러지, 23년 연결 영업손실 28.94억원'}\n",
      "{'date': '20240214', 'code': '', 'realkey': '202402141641042004416923', 'bodysize': '3141', 'time': '164104', 'id': '20', 'title': '제이비케이랩, 셀메드 론칭 후 5년 연속 실적 신기록'}\n",
      "{'date': '20240214', 'code': '', 'realkey': '202402141641051410500770', 'bodysize': '2586', 'time': '164105', 'id': '14', 'title': '나눔종합물류, 안정적 배차시스템 및 구독차량 기반으로 대기업 협약'}\n",
      "{'date': '20240214', 'code': '000000252990', 'realkey': '202402141641102147041816', 'bodysize': '3600', 'time': '164110', 'id': '21', 'title': '샘씨엔에스, 23년 개별 영업손실 29.12억원'}\n",
      "{'date': '20240214', 'code': '', 'realkey': '202402141641161411600771', 'bodysize': '1440', 'time': '164116', 'id': '14', 'title': \"[포토] 뮤지컬 '라스트 파이브 이어스' 최재림\"}\n"
     ]
    }
   ],
   "source": [
    "task1 = asyncio.create_task(connect())"
   ]
  },
  {
   "cell_type": "code",
   "execution_count": 6,
   "metadata": {},
   "outputs": [],
   "source": [
    "stop_signal=True"
   ]
  },
  {
   "cell_type": "code",
   "execution_count": null,
   "id": "b284ad97",
   "metadata": {},
   "outputs": [],
   "source": []
  }
 ],
 "metadata": {
  "kernelspec": {
   "display_name": "simple_glass",
   "language": "python",
   "name": "python3"
  },
  "language_info": {
   "codemirror_mode": {
    "name": "ipython",
    "version": 3
   },
   "file_extension": ".py",
   "mimetype": "text/x-python",
   "name": "python",
   "nbconvert_exporter": "python",
   "pygments_lexer": "ipython3",
   "version": "3.11.6"
  }
 },
 "nbformat": 4,
 "nbformat_minor": 5
}
